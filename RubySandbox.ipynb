{
 "cells": [
  {
   "cell_type": "code",
   "execution_count": 5,
   "metadata": {
    "collapsed": false
   },
   "outputs": [
    {
     "name": "stdout",
     "output_type": "stream",
     "text": [
      "I *really* like chocolate!\n",
      "I *really* like ruby!\n"
     ]
    }
   ],
   "source": [
    "doYouLike = Proc.new do |aGoodThing|\n",
    "  puts 'I *really* like '+aGoodThing+'!'\n",
    "end\n",
    " \n",
    "doYouLike.call 'chocolate'\n",
    "doYouLike.call 'ruby'"
   ]
  },
  {
   "cell_type": "code",
   "execution_count": null,
   "metadata": {
    "collapsed": true
   },
   "outputs": [],
   "source": []
  }
 ],
 "metadata": {
  "kernelspec": {
   "display_name": "Ruby 2.1.4",
   "language": "ruby",
   "name": "ruby"
  },
  "language_info": {
   "file_extension": "rb",
   "mimetype": "application/x-ruby",
   "name": "ruby",
   "version": "2.1.4"
  }
 },
 "nbformat": 4,
 "nbformat_minor": 0
}
