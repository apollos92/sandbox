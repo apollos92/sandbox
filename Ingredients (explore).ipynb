{
 "cells": [
  {
   "cell_type": "markdown",
   "metadata": {
    "slideshow": {
     "slide_type": "slide"
    }
   },
   "source": [
    "## 기본 통계\n",
    "\n",
    "### 재료(ingredient)-식품(base_food) 매핑\n",
    "\n",
    "- 총 435종 부여 (coverage: 전체 base_foods 아이템 중 `10.0%`)\n",
    "- 매핑되지 않은 ingredient rows: 3,105 / 6,761 (`46.0%`)\n",
    "- 전체 식품 출현 빈도는 Poisson 분포를 따를 것으로 보임 \n"
   ]
  },
  {
   "cell_type": "markdown",
   "metadata": {
    "slideshow": {
     "slide_type": "subslide"
    }
   },
   "source": [
    "### 관련 R Code: ingredients, base_foods CSV 파일 가공 "
   ]
  },
  {
   "cell_type": "code",
   "execution_count": 1,
   "metadata": {
    "collapsed": false,
    "slideshow": {
     "slide_type": "fragment"
    }
   },
   "outputs": [],
   "source": [
    "## read ingredients, base_foods\n",
    "\n",
    "ingredients <- read.csv('/Users/apollos/Desktop/git/work-vh/ingredients/ingredients.csv')\n",
    "base_foods <- read.csv('/Users/apollos/Desktop/git/work-vh/ingredients/basefoods_trimmed.csv')\n",
    "\n",
    "ingredients$bf_code[is.na(ingredients$bf_code)] <- 'UNDEFINED'\n",
    "ingredients$bf_code <- as.factor(ingredients$bf_code)\n",
    "\n",
    "bf.code.desc <- base_foods$name\n",
    "bf.code.label <- base_foods$label\n",
    "names(bf.code.desc) <- as.character(base_foods$code)\n",
    "names(bf.code.label) <- as.character(base_foods$code)\n",
    "\n",
    "# v <- as.vector(by(ingredients, ingredients$bf_code, nrow))\n",
    "# names(v) <- levels(ingredients$bf_code)\n",
    "# v <- sort(v, decreasing = T)\n",
    "# ingredients$bf_code <- factor(ingredients$bf_code, levels=names(v))"
   ]
  },
  {
   "cell_type": "markdown",
   "metadata": {
    "slideshow": {
     "slide_type": "slide"
    }
   },
   "source": [
    "## 고빈도 식품(base_food) 아이템\n",
    "\n",
    "![고빈도 식품 30종](highest_bf_bar.png)"
   ]
  },
  {
   "cell_type": "markdown",
   "metadata": {
    "slideshow": {
     "slide_type": "subslide"
    }
   },
   "source": [
    "### 관련 R Code: transform, dump"
   ]
  },
  {
   "cell_type": "code",
   "execution_count": 2,
   "metadata": {
    "collapsed": true,
    "slideshow": {
     "slide_type": "fragment"
    }
   },
   "outputs": [],
   "source": [
    "## Check ingredients mapped to base_food\n",
    "\n",
    "ing_actual <- ingredients[ingredients$bf_code != 'UNDEFINED',]\n",
    "ing_actual$bf_code <- as.factor(ing_actual$bf_code)\n",
    "ing.bf.freq <- as.vector(by(ing_actual, ing_actual$bf_code, nrow))\n",
    "names(ing.bf.freq) <- levels(ing_actual$bf_code)\n",
    "ing.bf.freq<- sort(ing.bf.freq, decreasing = T)\n",
    "bf.code.ordered <- names(ing.bf.freq)\n",
    "\n",
    "names(ing.bf.freq) <- bf.code.desc[bf.code.ordered]\n",
    "ing_actual$bf_desc <- bf.code.desc[as.character(ing_actual$bf_code)]\n",
    "ing_actual$bf_desc <- factor(ing_actual$bf_desc, levels=names(ing.bf.freq))\n",
    "ing_actual$bf_code <- factor(ing_actual$bf_code, levels=bf.code.ordered)\n",
    "\n",
    "ing.frame <- data.frame(code=bf.code.ordered, freq=ing.bf.freq, desc=names(ing.bf.freq), label=bf.code.label[bf.code.ordered])\n",
    "write.csv(ing.frame, '/Users/apollos/Desktop/git/work-vh/ingredients/ingredients_mapped.csv', row.names=F)"
   ]
  },
  {
   "cell_type": "markdown",
   "metadata": {
    "slideshow": {
     "slide_type": "slide"
    }
   },
   "source": [
    "### 분석 결과 (상위 15건)"
   ]
  },
  {
   "cell_type": "code",
   "execution_count": 3,
   "metadata": {
    "collapsed": false,
    "slideshow": {
     "slide_type": "fragment"
    }
   },
   "outputs": [
    {
     "data": {
      "text/html": [
       "<table>\n",
       "<thead><tr><th></th><th scope=col>code</th><th scope=col>freq</th><th scope=col>desc</th><th scope=col>label</th></tr></thead>\n",
       "<tbody>\n",
       "\t<tr><th scope=row>양파, 생것, 국내산</th><td>61108000</td><td>172</td><td>양파, 생것, 국내산</td><td>양파</td></tr>\n",
       "\t<tr><th scope=row>마늘, 구근, 생것(국내산)</th><td>61052010</td><td>154</td><td>마늘, 구근, 생것(국내산)</td><td>마늘</td></tr>\n",
       "\t<tr><th scope=row>설탕, 백설탕</th><td>31005020</td><td>139</td><td>설탕, 백설탕</td><td>백설탕</td></tr>\n",
       "\t<tr><th scope=row>소금, 식염</th><td>161016010</td><td>131</td><td>소금, 식염</td><td>소금</td></tr>\n",
       "\t<tr><th scope=row>간장, 진간장</th><td>161001010</td><td>125</td><td>간장, 진간장</td><td>진간장</td></tr>\n",
       "\t<tr><th scope=row>후추, 분말</th><td>161041000</td><td>110</td><td>후추, 분말</td><td>후추</td></tr>\n",
       "\t<tr><th scope=row>계란, 전란, 생것</th><td>101001000</td><td>106</td><td>계란, 전란, 생것</td><td>계란</td></tr>\n",
       "\t<tr><th scope=row>파, 대파</th><td>61151010</td><td>101</td><td>파, 대파</td><td>대파</td></tr>\n",
       "\t<tr><th scope=row>고추가루</th><td>161004010</td><td>88</td><td>고추가루</td><td>고추가루</td></tr>\n",
       "\t<tr><th scope=row>참기름</th><td>142012000</td><td>68</td><td>참기름</td><td>참기름</td></tr>\n",
       "\t<tr><th scope=row>고추, 풋고추, 개량종</th><td>61013010</td><td>60</td><td>고추, 풋고추, 개량종</td><td>풋고추</td></tr>\n",
       "\t<tr><th scope=row>올리브유</th><td>142010000</td><td>56</td><td>올리브유</td><td>올리브유</td></tr>\n",
       "\t<tr><th scope=row>고추장</th><td>161005000</td><td>53</td><td>고추장</td><td>고추장</td></tr>\n",
       "\t<tr><th scope=row>매실, 매실농축액</th><td>81012020</td><td>50</td><td>매실, 매실농축액</td><td>매실농축액</td></tr>\n",
       "\t<tr><th scope=row>우유, 흰우유, 보통우유</th><td>131002000</td><td>48</td><td>우유, 흰우유, 보통우유</td><td>흰우유</td></tr>\n",
       "</tbody>\n",
       "</table>\n"
      ],
      "text/latex": [
       "\\begin{tabular}{r|llll}\n",
       "  & code & freq & desc & label\\\\\n",
       "\\hline\n",
       "\t양파, 생것, 국내산 & 61108000 & 172 & 양파, 생것, 국내산 & 양파\\\\\n",
       "\t마늘, 구근, 생것(국내산) & 61052010 & 154 & 마늘, 구근, 생것(국내산) & 마늘\\\\\n",
       "\t설탕, 백설탕 & 31005020 & 139 & 설탕, 백설탕 & 백설탕\\\\\n",
       "\t소금, 식염 & 161016010 & 131 & 소금, 식염 & 소금\\\\\n",
       "\t간장, 진간장 & 161001010 & 125 & 간장, 진간장 & 진간장\\\\\n",
       "\t후추, 분말 & 161041000 & 110 & 후추, 분말 & 후추\\\\\n",
       "\t계란, 전란, 생것 & 101001000 & 106 & 계란, 전란, 생것 & 계란\\\\\n",
       "\t파, 대파 & 61151010 & 101 & 파, 대파 & 대파\\\\\n",
       "\t고추가루 & 161004010 & 88 & 고추가루 & 고추가루\\\\\n",
       "\t참기름 & 142012000 & 68 & 참기름 & 참기름\\\\\n",
       "\t고추, 풋고추, 개량종 & 61013010 & 60 & 고추, 풋고추, 개량종 & 풋고추\\\\\n",
       "\t올리브유 & 142010000 & 56 & 올리브유 & 올리브유\\\\\n",
       "\t고추장 & 161005000 & 53 & 고추장 & 고추장\\\\\n",
       "\t매실, 매실농축액 & 81012020 & 50 & 매실, 매실농축액 & 매실농축액\\\\\n",
       "\t우유, 흰우유, 보통우유 & 131002000 & 48 & 우유, 흰우유, 보통우유 & 흰우유\\\\\n",
       "\\end{tabular}\n"
      ],
      "text/plain": [
       "                              code freq                     desc      label\n",
       "양파, 생것, 국내산        61108000  172       양파, 생것, 국내산       양파\n",
       "마늘, 구근, 생것(국내산)  61052010  154 마늘, 구근, 생것(국내산)       마늘\n",
       "설탕, 백설탕              31005020  139             설탕, 백설탕     백설탕\n",
       "소금, 식염               161016010  131               소금, 식염       소금\n",
       "간장, 진간장             161001010  125             간장, 진간장     진간장\n",
       "후추, 분말               161041000  110               후추, 분말       후추\n",
       "계란, 전란, 생것         101001000  106         계란, 전란, 생것       계란\n",
       "파, 대파                  61151010  101                 파, 대파       대파\n",
       "고추가루                 161004010   88                 고추가루   고추가루\n",
       "참기름                   142012000   68                   참기름     참기름\n",
       "고추, 풋고추, 개량종      61013010   60     고추, 풋고추, 개량종     풋고추\n",
       "올리브유                 142010000   56                 올리브유   올리브유\n",
       "고추장                   161005000   53                   고추장     고추장\n",
       "매실, 매실농축액          81012020   50         매실, 매실농축액 매실농축액\n",
       "우유, 흰우유, 보통우유   131002000   48   우유, 흰우유, 보통우유     흰우유"
      ]
     },
     "execution_count": 3,
     "metadata": {},
     "output_type": "execute_result"
    }
   ],
   "source": [
    "head(ing.frame, 15)\n",
    "#ing.bf.freq[1:15]\n",
    "#bf.code.label[bf.code.ordered[1:15]]"
   ]
  },
  {
   "cell_type": "markdown",
   "metadata": {
    "slideshow": {
     "slide_type": "slide"
    }
   },
   "source": [
    "## 매핑 실패 사례\n",
    "\n",
    "### 매핑 실패 사례 추출 및 데이터 전처리"
   ]
  },
  {
   "cell_type": "code",
   "execution_count": 4,
   "metadata": {
    "collapsed": false,
    "slideshow": {
     "slide_type": "fragment"
    }
   },
   "outputs": [],
   "source": [
    "## failed in mapping (undefined)\n",
    "\n",
    "ing_undefined <- ingredients[ingredients$bf_code == 'UNDEFINED',]\n",
    "ing_undefined$name <- as.factor(ing_undefined$name)\n",
    "ing.undefined.freq <- as.vector(by(ing_undefined, ing_undefined$name, nrow))\n",
    "names(ing.undefined.freq) <- levels(ing_undefined$name)\n",
    "ing.undefined.freq <- sort(ing.undefined.freq, decreasing = T)"
   ]
  },
  {
   "cell_type": "markdown",
   "metadata": {
    "slideshow": {
     "slide_type": "subslide"
    }
   },
   "source": [
    "### 상위 사례 관찰\n",
    "- base_food에 존재하지 않는 경우 (`물`)\n",
    "- Pretty Print를 위한 재료 카테고리 구분 태그 역할 (`<양념>`)\n",
    "- 많은 사례의 경우, 매핑될 것으로 보이는데 매핑되지 않음 => 이유는?"
   ]
  },
  {
   "cell_type": "code",
   "execution_count": 5,
   "metadata": {
    "collapsed": false,
    "slideshow": {
     "slide_type": "fragment"
    }
   },
   "outputs": [
    {
     "data": {
      "text/html": [
       "<dl class=dl-horizontal>\n",
       "\t<dt>물</dt>\n",
       "\t\t<dd>126</dd>\n",
       "\t<dt>소금</dt>\n",
       "\t\t<dd>76</dd>\n",
       "\t<dt><양념></dt>\n",
       "\t\t<dd>72</dd>\n",
       "\t<dt>후추</dt>\n",
       "\t\t<dd>66</dd>\n",
       "\t<dt>양파</dt>\n",
       "\t\t<dd>58</dd>\n",
       "\t<dt>다진마늘</dt>\n",
       "\t\t<dd>53</dd>\n",
       "\t<dt>참기름</dt>\n",
       "\t\t<dd>50</dd>\n",
       "\t<dt>통깨</dt>\n",
       "\t\t<dd>47</dd>\n",
       "\t<dt>청양고추</dt>\n",
       "\t\t<dd>45</dd>\n",
       "\t<dt>설탕</dt>\n",
       "\t\t<dd>42</dd>\n",
       "\t<dt>올리고당</dt>\n",
       "\t\t<dd>36</dd>\n",
       "\t<dt>간장</dt>\n",
       "\t\t<dd>34</dd>\n",
       "\t<dt>당근</dt>\n",
       "\t\t<dd>33</dd>\n",
       "\t<dt>대파</dt>\n",
       "\t\t<dd>33</dd>\n",
       "\t<dt>계란</dt>\n",
       "\t\t<dd>30</dd>\n",
       "</dl>\n"
      ],
      "text/latex": [
       "\\begin{description*}\n",
       "\\item[물] 126\n",
       "\\item[소금] 76\n",
       "\\item[<양념>] 72\n",
       "\\item[후추] 66\n",
       "\\item[양파] 58\n",
       "\\item[다진마늘] 53\n",
       "\\item[참기름] 50\n",
       "\\item[통깨] 47\n",
       "\\item[청양고추] 45\n",
       "\\item[설탕] 42\n",
       "\\item[올리고당] 36\n",
       "\\item[간장] 34\n",
       "\\item[당근] 33\n",
       "\\item[대파] 33\n",
       "\\item[계란] 30\n",
       "\\end{description*}\n"
      ],
      "text/markdown": [
       "물\n",
       ":   126소금\n",
       ":   76<양념>\n",
       ":   72후추\n",
       ":   66양파\n",
       ":   58다진마늘\n",
       ":   53참기름\n",
       ":   50통깨\n",
       ":   47청양고추\n",
       ":   45설탕\n",
       ":   42올리고당\n",
       ":   36간장\n",
       ":   34당근\n",
       ":   33대파\n",
       ":   33계란\n",
       ":   30\n",
       "\n"
      ],
      "text/plain": [
       "      물     소금   <양념>     후추     양파 다진마늘   참기름     통깨 \n",
       "     126       76       72       66       58       53       50       47 \n",
       "청양고추     설탕 올리고당     간장     당근     대파     계란 \n",
       "      45       42       36       34       33       33       30 "
      ]
     },
     "execution_count": 5,
     "metadata": {},
     "output_type": "execute_result"
    }
   ],
   "source": [
    "ing.undefined.freq[1:15]"
   ]
  },
  {
   "cell_type": "markdown",
   "metadata": {
    "slideshow": {
     "slide_type": "subslide"
    }
   },
   "source": [
    "### 동일 재료명에 대한 매핑 실패(?)\n",
    "\n",
    "- 실제 실패는 아니며, 레시피 작성 UI에서 사용자가 시스템에서 제시한 base_food를 선택해 줘야 실제 등록 \n",
    "- 선택하지 않은 경우 매핑되지 않음 (그리고 점차 선택하지 않는 경우가 늘어나고 있음!)\n",
    "\n",
    "### 매핑 관련 이슈\n",
    "\n",
    "#### 정제/특화된 재료 컨셉 필요\n",
    "\n",
    "`base_food`로 접근했으나, 이러한 conceptualization(abstraction)을 위해서는 더 정밀한 태그가 붙어야 함\n",
    "\n",
    "- 관점별 카테고리 추가\n",
    "\n",
    "- 속성 추가\n",
    "> 예) 재료에는 제한된 유형의 요리 방법이 있을 것\n",
    "\n",
    "- 재료간 연관관계는?\n",
    "> 고기 요리에는 주로 쓰이는 양념류와, 고기 냄새를 제거하기 위한 재료등이 등장할 것. 이처럼 함께 나타나는 연관관계 + 재료 유형\n",
    "\n",
    "#### 정제 필요성\n",
    "\n",
    "매칭을 위해 검색 기준이 되는 텍스트 정제 등 필요\n",
    "- 띄어쓰기 통일 (검색시 없애는 방향으로)\n",
    "- `nb_nickname` 정제 필요 \n",
    "- `()`로 둘러쌓인 텍스트는 이름에서 빼고 검색해줘야 할 것\n",
    "- 재료 뒤 각종 설명을 위해 늘여쓴 내용도 필터링해야 함 (언어분석 필요)\n",
    "- `<>`로 둘러쌓인 태그는 분석에서 filter-out해야 함\n",
    "\n",
    "### 가능성\n",
    "- 현재 이를 위해 DB query를 (ruby code로) 돌리고 있는데, 이미 구해진 고빈도 매핑은 바로 기계적으로 정해도 문제 없을 것 같음\n",
    "- <양념>, <소스> 등의 태그를 재료의 (추가적) 메타데이터를 구하는 데 활용할 수 있음\n",
    "\n"
   ]
  },
  {
   "cell_type": "markdown",
   "metadata": {
    "slideshow": {
     "slide_type": "subslide"
    }
   },
   "source": [
    "### 관련 데이터 탐색 (참고)"
   ]
  },
  {
   "cell_type": "code",
   "execution_count": 6,
   "metadata": {
    "collapsed": false,
    "slideshow": {
     "slide_type": "fragment"
    }
   },
   "outputs": [
    {
     "data": {
      "text/html": [
       "0.353658536585366"
      ],
      "text/latex": [
       "0.353658536585366"
      ],
      "text/markdown": [
       "0.353658536585366"
      ],
      "text/plain": [
       "[1] 0.3536585"
      ]
     },
     "execution_count": 6,
     "metadata": {},
     "output_type": "execute_result"
    },
    {
     "data": {
      "text/html": [
       "<table>\n",
       "<thead><tr><th></th><th scope=col>recipe_id</th><th scope=col>bf_code</th><th scope=col>amount</th></tr></thead>\n",
       "<tbody>\n",
       "\t<tr><th scope=row>2579</th><td>327</td><td>UNDEFINED</td><td>.</td></tr>\n",
       "\t<tr><th scope=row>2585</th><td>328</td><td>UNDEFINED</td><td>.</td></tr>\n",
       "\t<tr><th scope=row>2771</th><td>348</td><td>UNDEFINED</td><td>1 숟가락</td></tr>\n",
       "\t<tr><th scope=row>2915</th><td>361</td><td>UNDEFINED</td><td>2 숟가락</td></tr>\n",
       "\t<tr><th scope=row>2943</th><td>369</td><td>UNDEFINED</td><td>2 큰술</td></tr>\n",
       "\t<tr><th scope=row>3046</th><td>383</td><td>UNDEFINED</td><td>1 큰술</td></tr>\n",
       "\t<tr><th scope=row>3064</th><td>384</td><td>161005000</td><td>1 큰술</td></tr>\n",
       "\t<tr><th scope=row>3174</th><td>398</td><td>161005000</td><td>6 숟가락</td></tr>\n",
       "\t<tr><th scope=row>3475</th><td>432</td><td>161005000</td><td>1 Ts</td></tr>\n",
       "\t<tr><th scope=row>3524</th><td>438</td><td>UNDEFINED</td><td>1작은술</td></tr>\n",
       "\t<tr><th scope=row>3578</th><td>446</td><td>UNDEFINED</td><td>2큰술</td></tr>\n",
       "</tbody>\n",
       "</table>\n"
      ],
      "text/latex": [
       "\\begin{tabular}{r|lll}\n",
       "  & recipe_id & bf_code & amount\\\\\n",
       "\\hline\n",
       "\t2579 & 327 & UNDEFINED & .\\\\\n",
       "\t2585 & 328 & UNDEFINED & .\\\\\n",
       "\t2771 & 348 & UNDEFINED & 1 숟가락\\\\\n",
       "\t2915 & 361 & UNDEFINED & 2 숟가락\\\\\n",
       "\t2943 & 369 & UNDEFINED & 2 큰술\\\\\n",
       "\t3046 & 383 & UNDEFINED & 1 큰술\\\\\n",
       "\t3064 & 384 & 161005000 & 1 큰술\\\\\n",
       "\t3174 & 398 & 161005000 & 6 숟가락\\\\\n",
       "\t3475 & 432 & 161005000 & 1 Ts\\\\\n",
       "\t3524 & 438 & UNDEFINED & 1작은술\\\\\n",
       "\t3578 & 446 & UNDEFINED & 2큰술\\\\\n",
       "\\end{tabular}\n"
      ],
      "text/plain": [
       "     recipe_id   bf_code   amount\n",
       "2579       327 UNDEFINED        .\n",
       "2585       328 UNDEFINED        .\n",
       "2771       348 UNDEFINED 1 숟가락\n",
       "2915       361 UNDEFINED 2 숟가락\n",
       "2943       369 UNDEFINED   2 큰술\n",
       "3046       383 UNDEFINED   1 큰술\n",
       "3064       384 161005000   1 큰술\n",
       "3174       398 161005000 6 숟가락\n",
       "3475       432 161005000     1 Ts\n",
       "3524       438 UNDEFINED  1작은술\n",
       "3578       446 UNDEFINED    2큰술"
      ]
     },
     "execution_count": 6,
     "metadata": {},
     "output_type": "execute_result"
    }
   ],
   "source": [
    "nrow(ingredients[ingredients$name=='고추장' & ingredients$bf_code=='UNDEFINED',]) / nrow(ingredients[ingredients$name=='고추장',])\n",
    "ingredients[ingredients$name=='고추장', c('recipe_id', 'bf_code', 'amount')][30:40,]"
   ]
  },
  {
   "cell_type": "code",
   "execution_count": 7,
   "metadata": {
    "collapsed": false,
    "slideshow": {
     "slide_type": "fragment"
    }
   },
   "outputs": [
    {
     "data": {
      "text/html": [
       "<dl class=dl-horizontal>\n",
       "\t<dt><양념></dt>\n",
       "\t\t<dd>72</dd>\n",
       "\t<dt><소스></dt>\n",
       "\t\t<dd>13</dd>\n",
       "\t<dt><양념장></dt>\n",
       "\t\t<dd>12</dd>\n",
       "\t<dt><밑간></dt>\n",
       "\t\t<dd>3</dd>\n",
       "\t<dt><고기밑간></dt>\n",
       "\t\t<dd>2</dd>\n",
       "\t<dt><비빔국수 양념장></dt>\n",
       "\t\t<dd>2</dd>\n",
       "\t<dt><육수></dt>\n",
       "\t\t<dd>2</dd>\n",
       "\t<dt><장식></dt>\n",
       "\t\t<dd>2</dd>\n",
       "\t<dt>< 양념></dt>\n",
       "\t\t<dd>1</dd>\n",
       "\t<dt><강정시럽></dt>\n",
       "\t\t<dd>1</dd>\n",
       "</dl>\n"
      ],
      "text/latex": [
       "\\begin{description*}\n",
       "\\item[<양념>] 72\n",
       "\\item[<소스>] 13\n",
       "\\item[<양념장>] 12\n",
       "\\item[<밑간>] 3\n",
       "\\item[<고기밑간>] 2\n",
       "\\item[<비빔국수 양념장>] 2\n",
       "\\item[<육수>] 2\n",
       "\\item[<장식>] 2\n",
       "\\item[< 양념>] 1\n",
       "\\item[<강정시럽>] 1\n",
       "\\end{description*}\n"
      ],
      "text/markdown": [
       "<양념>\n",
       ":   72<소스>\n",
       ":   13<양념장>\n",
       ":   12<밑간>\n",
       ":   3<고기밑간>\n",
       ":   2<비빔국수 양념장>\n",
       ":   2<육수>\n",
       ":   2<장식>\n",
       ":   2< 양념>\n",
       ":   1<강정시럽>\n",
       ":   1\n",
       "\n"
      ],
      "text/plain": [
       "           <양념>            <소스>          <양념장>            <밑간> \n",
       "               72                13                12                 3 \n",
       "       <고기밑간> <비빔국수 양념장>            <육수>            <장식> \n",
       "                2                 2                 2                 2 \n",
       "          < 양념>        <강정시럽> \n",
       "                1                 1 "
      ]
     },
     "execution_count": 7,
     "metadata": {},
     "output_type": "execute_result"
    }
   ],
   "source": [
    "# find freq. of ingredients only for categorized view\n",
    "ing.undefined.freq[substr(names(ing.undefined.freq), 1,1) == '<'][1:10]"
   ]
  },
  {
   "cell_type": "markdown",
   "metadata": {
    "slideshow": {
     "slide_type": "fragment"
    }
   },
   "source": [
    "> 개념적으로 재료 유형/카테고리에 대한 메타데이터가 필요했으나, 현재 스키마가 제공하지 못해 발생한 편법"
   ]
  },
  {
   "cell_type": "markdown",
   "metadata": {
    "slideshow": {
     "slide_type": "subslide"
    }
   },
   "source": [
    "### Graph DB (Neo4J) \n",
    "\n",
    "#### 연관관계 기반 재료명 매핑 테스트중\n",
    "\n",
    "#### Eg: `설탕`에 대한 base_food (개념) 찾기 \n",
    "\n",
    "##### 내부 QL: Cypher 코드 \n",
    "```\n",
    "MATCH (b:Bf), (a1:BfAlias)\n",
    "WHERE a1.name =~ '*설탕' \n",
    "    AND (NOT a1.name IN split(b.name, ', ') OR a1.name=b.label) \n",
    "    AND (b)-[:AKA]->(a1)\n",
    "RETURN distinct b\n",
    "```\n",
    "##### 실행 결과\n",
    "![Cypher 실행 결과](graph-cypher-result.png)"
   ]
  },
  {
   "cell_type": "markdown",
   "metadata": {
    "slideshow": {
     "slide_type": "slide"
    }
   },
   "source": [
    "## 재료별 매핑\n",
    "\n",
    "### 일반적 이슈\n",
    "\n",
    "- UNDEFINED가 다수 발견\n",
    "    - base_foods내 존재하지 않는 경우, 사용자 미지정한 경우\n",
    "- 동일한 재료명의 매핑 여부가 갈릴 때 많음\n",
    "    - 고빈도 재료명의 경우 이때 이미 동일 재료명에서 찾은 매핑을 그대로 일괄 적용해도 좋겠다고 생각함\n",
    "\n",
    "\n",
    "### 고빈도  재료명 사례: 계란\n",
    "\n",
    "주로 base_food `101001000`에 매핑되나, 다양한 변형 사례 발견\n",
    "- 띄어쓰기 관련 통일해서 (즉 normalization 기준을 줘서) nickname을 관리해야 함\n",
    "\n",
    "### 고빈도 재료명 사례: 돼지고기\n",
    "\n",
    "다양한 재료 유형 발견됨 (돼지고기 관련 재료 코드는 `920*`임)\n",
    "\n",
    "이름 매칭 이슈 \n",
    "- 괄호에 둘러쌓인 텍스트는 trimming해서 매칭하는 게 좋겠음\n",
    "\n",
    "돼지고기 관련 basefood의 이름 매핑 사례는 아래 그래프와 같음\n",
    "![매핑 사례](graph-pork-aliases.png)\n",
    "\n"
   ]
  },
  {
   "cell_type": "markdown",
   "metadata": {
    "slideshow": {
     "slide_type": "subslide"
    }
   },
   "source": [
    "### 관련 탐색용 R 코드"
   ]
  },
  {
   "cell_type": "code",
   "execution_count": 8,
   "metadata": {
    "collapsed": true,
    "slideshow": {
     "slide_type": "fragment"
    }
   },
   "outputs": [],
   "source": [
    "# view ingredient-basefood mappings\n",
    "ingredients$bf_mapping <- paste(ingredients$name, '-', ingredients$bf_code, sep='')\n",
    "ingredients$bf_mapping <- factor(ingredients$bf_mapping, levels=sort(unique(ingredients$bf_mapping)))\n",
    "\n",
    "mapping.count <- as.vector(by(ingredients, ingredients$bf_mapping, nrow))\n",
    "names(mapping.count) <- levels(ingredients$bf_mapping)"
   ]
  },
  {
   "cell_type": "code",
   "execution_count": 9,
   "metadata": {
    "collapsed": false,
    "slideshow": {
     "slide_type": "fragment"
    }
   },
   "outputs": [
    {
     "data": {
      "text/html": [
       "<dl class=dl-horizontal>\n",
       "\t<dt>양파-61108000</dt>\n",
       "\t\t<dd>169</dd>\n",
       "\t<dt>소금-161016010</dt>\n",
       "\t\t<dd>130</dd>\n",
       "\t<dt>물-UNDEFINED</dt>\n",
       "\t\t<dd>126</dd>\n",
       "\t<dt>마늘-61052010</dt>\n",
       "\t\t<dd>108</dd>\n",
       "\t<dt>후추-161041000</dt>\n",
       "\t\t<dd>104</dd>\n",
       "\t<dt>계란-101001000</dt>\n",
       "\t\t<dd>96</dd>\n",
       "\t<dt>백설탕-31005020</dt>\n",
       "\t\t<dd>92</dd>\n",
       "\t<dt>대파-61151010</dt>\n",
       "\t\t<dd>81</dd>\n",
       "\t<dt>소금-UNDEFINED</dt>\n",
       "\t\t<dd>76</dd>\n",
       "\t<dt>진간장-161001010</dt>\n",
       "\t\t<dd>74</dd>\n",
       "\t<dt>고추가루-161004010</dt>\n",
       "\t\t<dd>70</dd>\n",
       "\t<dt>참기름-142012000</dt>\n",
       "\t\t<dd>68</dd>\n",
       "\t<dt>후추-UNDEFINED</dt>\n",
       "\t\t<dd>66</dd>\n",
       "\t<dt>양파-UNDEFINED</dt>\n",
       "\t\t<dd>58</dd>\n",
       "\t<dt>고추장-161005000</dt>\n",
       "\t\t<dd>53</dd>\n",
       "</dl>\n"
      ],
      "text/latex": [
       "\\begin{description*}\n",
       "\\item[양파-61108000] 169\n",
       "\\item[소금-161016010] 130\n",
       "\\item[물-UNDEFINED] 126\n",
       "\\item[마늘-61052010] 108\n",
       "\\item[후추-161041000] 104\n",
       "\\item[계란-101001000] 96\n",
       "\\item[백설탕-31005020] 92\n",
       "\\item[대파-61151010] 81\n",
       "\\item[소금-UNDEFINED] 76\n",
       "\\item[진간장-161001010] 74\n",
       "\\item[고추가루-161004010] 70\n",
       "\\item[참기름-142012000] 68\n",
       "\\item[후추-UNDEFINED] 66\n",
       "\\item[양파-UNDEFINED] 58\n",
       "\\item[고추장-161005000] 53\n",
       "\\end{description*}\n"
      ],
      "text/markdown": [
       "양파-61108000\n",
       ":   169소금-161016010\n",
       ":   130물-UNDEFINED\n",
       ":   126마늘-61052010\n",
       ":   108후추-161041000\n",
       ":   104계란-101001000\n",
       ":   96백설탕-31005020\n",
       ":   92대파-61151010\n",
       ":   81소금-UNDEFINED\n",
       ":   76진간장-161001010\n",
       ":   74고추가루-161004010\n",
       ":   70참기름-142012000\n",
       ":   68후추-UNDEFINED\n",
       ":   66양파-UNDEFINED\n",
       ":   58고추장-161005000\n",
       ":   53\n",
       "\n"
      ],
      "text/plain": [
       "     양파-61108000     소금-161016010       물-UNDEFINED      마늘-61052010 \n",
       "               169                130                126                108 \n",
       "    후추-161041000     계란-101001000    백설탕-31005020      대파-61151010 \n",
       "               104                 96                 92                 81 \n",
       "    소금-UNDEFINED   진간장-161001010 고추가루-161004010   참기름-142012000 \n",
       "                76                 74                 70                 68 \n",
       "    후추-UNDEFINED     양파-UNDEFINED   고추장-161005000 \n",
       "                66                 58                 53 "
      ]
     },
     "execution_count": 9,
     "metadata": {},
     "output_type": "execute_result"
    },
    {
     "data": {
      "text/html": [
       "<dl class=dl-horizontal>\n",
       "\t<dt>계란 노른자-101003000</dt>\n",
       "\t\t<dd>1</dd>\n",
       "\t<dt>계란 삶은것-UNDEFINED</dt>\n",
       "\t\t<dd>1</dd>\n",
       "\t<dt>계란-101001000</dt>\n",
       "\t\t<dd>96</dd>\n",
       "\t<dt>계란-UNDEFINED</dt>\n",
       "\t\t<dd>30</dd>\n",
       "\t<dt>계란노른자 삶은것-101003010</dt>\n",
       "\t\t<dd>1</dd>\n",
       "\t<dt>계란노른자-101003000</dt>\n",
       "\t\t<dd>11</dd>\n",
       "\t<dt>계란노른자-UNDEFINED</dt>\n",
       "\t\t<dd>1</dd>\n",
       "\t<dt>계란후라이-101009000</dt>\n",
       "\t\t<dd>1</dd>\n",
       "\t<dt>계란흰자-101002000</dt>\n",
       "\t\t<dd>3</dd>\n",
       "</dl>\n"
      ],
      "text/latex": [
       "\\begin{description*}\n",
       "\\item[계란 노른자-101003000] 1\n",
       "\\item[계란 삶은것-UNDEFINED] 1\n",
       "\\item[계란-101001000] 96\n",
       "\\item[계란-UNDEFINED] 30\n",
       "\\item[계란노른자 삶은것-101003010] 1\n",
       "\\item[계란노른자-101003000] 11\n",
       "\\item[계란노른자-UNDEFINED] 1\n",
       "\\item[계란후라이-101009000] 1\n",
       "\\item[계란흰자-101002000] 3\n",
       "\\end{description*}\n"
      ],
      "text/markdown": [
       "계란 노른자-101003000\n",
       ":   1계란 삶은것-UNDEFINED\n",
       ":   1계란-101001000\n",
       ":   96계란-UNDEFINED\n",
       ":   30계란노른자 삶은것-101003010\n",
       ":   1계란노른자-101003000\n",
       ":   11계란노른자-UNDEFINED\n",
       ":   1계란후라이-101009000\n",
       ":   1계란흰자-101002000\n",
       ":   3\n",
       "\n"
      ],
      "text/plain": [
       "      계란 노른자-101003000       계란 삶은것-UNDEFINED \n",
       "                          1                           1 \n",
       "             계란-101001000              계란-UNDEFINED \n",
       "                         96                          30 \n",
       "계란노른자 삶은것-101003010        계란노른자-101003000 \n",
       "                          1                          11 \n",
       "       계란노른자-UNDEFINED        계란후라이-101009000 \n",
       "                          1                           1 \n",
       "         계란흰자-101002000 \n",
       "                          3 "
      ]
     },
     "execution_count": 9,
     "metadata": {},
     "output_type": "execute_result"
    },
    {
     "data": {
      "text/html": [
       "<dl class=dl-horizontal>\n",
       "\t<dt>돼지고기 등갈비살-UNDEFINED</dt>\n",
       "\t\t<dd>1</dd>\n",
       "\t<dt>돼지고기 등심-92003000</dt>\n",
       "\t\t<dd>3</dd>\n",
       "\t<dt>돼지고기 목살-UNDEFINED</dt>\n",
       "\t\t<dd>1</dd>\n",
       "\t<dt>돼지고기 삼겹살 (혹은 목살)-UNDEFINED</dt>\n",
       "\t\t<dd>1</dd>\n",
       "\t<dt>돼지고기 안심-92006000</dt>\n",
       "\t\t<dd>1</dd>\n",
       "\t<dt>돼지고기-92021000</dt>\n",
       "\t\t<dd>3</dd>\n",
       "\t<dt>돼지고기-UNDEFINED</dt>\n",
       "\t\t<dd>6</dd>\n",
       "\t<dt>돼지고기(목살 혹은 삼겹살)-UNDEFINED</dt>\n",
       "\t\t<dd>1</dd>\n",
       "\t<dt>돼지고기(잡채용)-UNDEFINED</dt>\n",
       "\t\t<dd>1</dd>\n",
       "\t<dt>돼지고기간것-92006030</dt>\n",
       "\t\t<dd>2</dd>\n",
       "\t<dt>돼지고기다진것-UNDEFINED</dt>\n",
       "\t\t<dd>1</dd>\n",
       "\t<dt>돼지고기등심(잡채용 돼지고기)-92003000</dt>\n",
       "\t\t<dd>1</dd>\n",
       "\t<dt>돼지고기목살-92021000</dt>\n",
       "\t\t<dd>1</dd>\n",
       "</dl>\n"
      ],
      "text/latex": [
       "\\begin{description*}\n",
       "\\item[돼지고기 등갈비살-UNDEFINED] 1\n",
       "\\item[돼지고기 등심-92003000] 3\n",
       "\\item[돼지고기 목살-UNDEFINED] 1\n",
       "\\item[돼지고기 삼겹살 (혹은 목살)-UNDEFINED] 1\n",
       "\\item[돼지고기 안심-92006000] 1\n",
       "\\item[돼지고기-92021000] 3\n",
       "\\item[돼지고기-UNDEFINED] 6\n",
       "\\item[돼지고기(목살 혹은 삼겹살)-UNDEFINED] 1\n",
       "\\item[돼지고기(잡채용)-UNDEFINED] 1\n",
       "\\item[돼지고기간것-92006030] 2\n",
       "\\item[돼지고기다진것-UNDEFINED] 1\n",
       "\\item[돼지고기등심(잡채용 돼지고기)-92003000] 1\n",
       "\\item[돼지고기목살-92021000] 1\n",
       "\\end{description*}\n"
      ],
      "text/markdown": [
       "돼지고기 등갈비살-UNDEFINED\n",
       ":   1돼지고기 등심-92003000\n",
       ":   3돼지고기 목살-UNDEFINED\n",
       ":   1돼지고기 삼겹살 (혹은 목살)-UNDEFINED\n",
       ":   1돼지고기 안심-92006000\n",
       ":   1돼지고기-92021000\n",
       ":   3돼지고기-UNDEFINED\n",
       ":   6돼지고기(목살 혹은 삼겹살)-UNDEFINED\n",
       ":   1돼지고기(잡채용)-UNDEFINED\n",
       ":   1돼지고기간것-92006030\n",
       ":   2돼지고기다진것-UNDEFINED\n",
       ":   1돼지고기등심(잡채용 돼지고기)-92003000\n",
       ":   1돼지고기목살-92021000\n",
       ":   1\n",
       "\n"
      ],
      "text/plain": [
       "           돼지고기 등갈비살-UNDEFINED                 돼지고기 등심-92003000 \n",
       "                                     1                                      3 \n",
       "               돼지고기 목살-UNDEFINED  돼지고기 삼겹살 (혹은 목살)-UNDEFINED \n",
       "                                     1                                      1 \n",
       "                돼지고기 안심-92006000                      돼지고기-92021000 \n",
       "                                     1                                      3 \n",
       "                    돼지고기-UNDEFINED   돼지고기(목살 혹은 삼겹살)-UNDEFINED \n",
       "                                     6                                      1 \n",
       "            돼지고기(잡채용)-UNDEFINED                  돼지고기간것-92006030 \n",
       "                                     1                                      2 \n",
       "              돼지고기다진것-UNDEFINED 돼지고기등심(잡채용 돼지고기)-92003000 \n",
       "                                     1                                      1 \n",
       "                 돼지고기목살-92021000 \n",
       "                                     1 "
      ]
     },
     "execution_count": 9,
     "metadata": {},
     "output_type": "execute_result"
    }
   ],
   "source": [
    "sort(mapping.count[substr(names(mapping.count),1,1) != '<'], decreasing = T)[1:15]\n",
    "mapping.count[substr(names(mapping.count),1,2) == '계란']\n",
    "mapping.count[substr(names(mapping.count),1,4) == '돼지고기']"
   ]
  }
 ],
 "metadata": {
  "celltoolbar": "Slideshow",
  "kernelspec": {
   "display_name": "R",
   "language": "R",
   "name": "ir"
  },
  "language_info": {
   "codemirror_mode": "r",
   "file_extension": ".r",
   "mimetype": "text/x-r-source",
   "name": "R",
   "pygments_lexer": "r",
   "version": "3.2.0"
  }
 },
 "nbformat": 4,
 "nbformat_minor": 0
}
